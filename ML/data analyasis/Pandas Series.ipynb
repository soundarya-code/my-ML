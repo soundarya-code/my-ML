{
 "cells": [
  {
   "cell_type": "code",
   "execution_count": 1,
   "id": "27528b8b",
   "metadata": {},
   "outputs": [],
   "source": [
    "import pandas as pd\n",
    "import numpy as np"
   ]
  },
  {
   "cell_type": "code",
   "execution_count": 2,
   "id": "48f2ecb9",
   "metadata": {},
   "outputs": [],
   "source": [
    "df=pd.Series([45.65,89.6,47.0,33.12,34.64,112.89,43.78,100,89],dtype='float32')"
   ]
  },
  {
   "cell_type": "code",
   "execution_count": 3,
   "id": "ee388408",
   "metadata": {},
   "outputs": [
    {
     "data": {
      "text/plain": [
       "0     45.650002\n",
       "1     89.599998\n",
       "2     47.000000\n",
       "3     33.119999\n",
       "4     34.639999\n",
       "5    112.889999\n",
       "6     43.779999\n",
       "7    100.000000\n",
       "8     89.000000\n",
       "dtype: float32"
      ]
     },
     "execution_count": 3,
     "metadata": {},
     "output_type": "execute_result"
    }
   ],
   "source": [
    "df"
   ]
  },
  {
   "cell_type": "code",
   "execution_count": 4,
   "id": "62b28f55",
   "metadata": {},
   "outputs": [],
   "source": [
    "df.name='G7'"
   ]
  },
  {
   "cell_type": "code",
   "execution_count": 5,
   "id": "944dbd37",
   "metadata": {},
   "outputs": [
    {
     "data": {
      "text/plain": [
       "0     45.650002\n",
       "1     89.599998\n",
       "2     47.000000\n",
       "3     33.119999\n",
       "4     34.639999\n",
       "5    112.889999\n",
       "6     43.779999\n",
       "7    100.000000\n",
       "8     89.000000\n",
       "Name: G7, dtype: float32"
      ]
     },
     "execution_count": 5,
     "metadata": {},
     "output_type": "execute_result"
    }
   ],
   "source": [
    "df"
   ]
  },
  {
   "cell_type": "code",
   "execution_count": 6,
   "id": "68154d37",
   "metadata": {},
   "outputs": [],
   "source": [
    "# df.dtypes.value_counts()"
   ]
  },
  {
   "cell_type": "code",
   "execution_count": 7,
   "id": "a7292857",
   "metadata": {},
   "outputs": [
    {
     "data": {
      "text/plain": [
       "array([ 45.65,  89.6 ,  47.  ,  33.12,  34.64, 112.89,  43.78, 100.  ,\n",
       "        89.  ], dtype=float32)"
      ]
     },
     "execution_count": 7,
     "metadata": {},
     "output_type": "execute_result"
    }
   ],
   "source": [
    "df.values"
   ]
  },
  {
   "cell_type": "code",
   "execution_count": 8,
   "id": "4352b64c",
   "metadata": {},
   "outputs": [
    {
     "data": {
      "text/plain": [
       "numpy.ndarray"
      ]
     },
     "execution_count": 8,
     "metadata": {},
     "output_type": "execute_result"
    }
   ],
   "source": [
    "type(df.values)"
   ]
  },
  {
   "cell_type": "code",
   "execution_count": 9,
   "id": "2b421cde",
   "metadata": {},
   "outputs": [
    {
     "data": {
      "text/plain": [
       "45.65"
      ]
     },
     "execution_count": 9,
     "metadata": {},
     "output_type": "execute_result"
    }
   ],
   "source": [
    "df[0]"
   ]
  },
  {
   "cell_type": "code",
   "execution_count": 10,
   "id": "079c350b",
   "metadata": {},
   "outputs": [
    {
     "data": {
      "text/plain": [
       "89.6"
      ]
     },
     "execution_count": 10,
     "metadata": {},
     "output_type": "execute_result"
    }
   ],
   "source": [
    "df[1]"
   ]
  },
  {
   "cell_type": "code",
   "execution_count": 11,
   "id": "d607cd00",
   "metadata": {},
   "outputs": [
    {
     "data": {
      "text/plain": [
       "34.64"
      ]
     },
     "execution_count": 11,
     "metadata": {},
     "output_type": "execute_result"
    }
   ],
   "source": [
    "df[4]"
   ]
  },
  {
   "cell_type": "code",
   "execution_count": 12,
   "id": "2fb5197c",
   "metadata": {},
   "outputs": [
    {
     "data": {
      "text/plain": [
       "RangeIndex(start=0, stop=9, step=1)"
      ]
     },
     "execution_count": 12,
     "metadata": {},
     "output_type": "execute_result"
    }
   ],
   "source": [
    "df.index"
   ]
  },
  {
   "cell_type": "code",
   "execution_count": 13,
   "id": "16f40108",
   "metadata": {},
   "outputs": [],
   "source": [
    "df.index=[\n",
    "    'india',\n",
    "    'japan',\n",
    "    'shrilanka',\n",
    "    'nepal',\n",
    "    'USA',\n",
    "    'Brazil',\n",
    "    'UK',\n",
    "    'Australia',\n",
    "    'Butan'\n",
    "]"
   ]
  },
  {
   "cell_type": "code",
   "execution_count": 14,
   "id": "9332c591",
   "metadata": {},
   "outputs": [],
   "source": [
    "df.columns=\"GDP\""
   ]
  },
  {
   "cell_type": "code",
   "execution_count": 15,
   "id": "c2fb257e",
   "metadata": {},
   "outputs": [
    {
     "data": {
      "text/plain": [
       "india    45.650002\n",
       "Name: G7, dtype: float32"
      ]
     },
     "execution_count": 15,
     "metadata": {},
     "output_type": "execute_result"
    }
   ],
   "source": [
    "df.head(1)"
   ]
  },
  {
   "cell_type": "code",
   "execution_count": 16,
   "id": "7e11ebff",
   "metadata": {},
   "outputs": [
    {
     "data": {
      "text/plain": [
       "india         45.650002\n",
       "japan         89.599998\n",
       "shrilanka     47.000000\n",
       "nepal         33.119999\n",
       "USA           34.639999\n",
       "Brazil       112.889999\n",
       "UK            43.779999\n",
       "Australia    100.000000\n",
       "Butan         89.000000\n",
       "Name: G7, dtype: float32"
      ]
     },
     "execution_count": 16,
     "metadata": {},
     "output_type": "execute_result"
    }
   ],
   "source": [
    "df"
   ]
  },
  {
   "cell_type": "code",
   "execution_count": 17,
   "id": "b26fd9f1",
   "metadata": {},
   "outputs": [
    {
     "data": {
      "text/plain": [
       "india         45.65\n",
       "japan          89.6\n",
       "shrilanka      47.0\n",
       "nepal         33.12\n",
       "USA           34.64\n",
       "Brazil       112.89\n",
       "UK            43.78\n",
       "Australia     hello\n",
       "Butan            89\n",
       "Name: G9, dtype: object"
      ]
     },
     "execution_count": 17,
     "metadata": {},
     "output_type": "execute_result"
    }
   ],
   "source": [
    "pd.Series([45.65, 89.6, 47.0, 33.12, 34.64, 112.89, 43.78, 'hello', 89],\n",
    "         index=['india','japan ','shrilanka','nepal','USA','Brazil','UK','Australia','Butan'],\n",
    "         name='G9')"
   ]
  },
  {
   "cell_type": "code",
   "execution_count": 18,
   "id": "5dc67c00",
   "metadata": {},
   "outputs": [
    {
     "data": {
      "text/plain": [
       "india         45.650002\n",
       "japan               NaN\n",
       "shrilanka     47.000000\n",
       "nepal         33.119999\n",
       "USA           34.639999\n",
       "Brazil       112.889999\n",
       "UK            43.779999\n",
       "Australia    100.000000\n",
       "Butan         89.000000\n",
       "Name: G7, dtype: float32"
      ]
     },
     "execution_count": 18,
     "metadata": {},
     "output_type": "execute_result"
    }
   ],
   "source": [
    "pd.Series(df,index=['india','japan ','shrilanka','nepal','USA','Brazil','UK','Australia','Butan'])"
   ]
  },
  {
   "cell_type": "markdown",
   "id": "a65a0251",
   "metadata": {},
   "source": [
    "# indexing"
   ]
  },
  {
   "cell_type": "code",
   "execution_count": 19,
   "id": "32189651",
   "metadata": {},
   "outputs": [
    {
     "data": {
      "text/plain": [
       "45.65"
      ]
     },
     "execution_count": 19,
     "metadata": {},
     "output_type": "execute_result"
    }
   ],
   "source": [
    "df['india']"
   ]
  },
  {
   "cell_type": "code",
   "execution_count": 20,
   "id": "a7b5bedf",
   "metadata": {},
   "outputs": [
    {
     "data": {
      "text/plain": [
       "india         45.650002\n",
       "japan         89.599998\n",
       "shrilanka     47.000000\n",
       "nepal         33.119999\n",
       "USA           34.639999\n",
       "Brazil       112.889999\n",
       "Name: G7, dtype: float32"
      ]
     },
     "execution_count": 20,
     "metadata": {},
     "output_type": "execute_result"
    }
   ],
   "source": [
    "df['india':'Brazil']"
   ]
  },
  {
   "cell_type": "code",
   "execution_count": 21,
   "id": "4ebc3c35",
   "metadata": {},
   "outputs": [
    {
     "data": {
      "text/plain": [
       "45.65"
      ]
     },
     "execution_count": 21,
     "metadata": {},
     "output_type": "execute_result"
    }
   ],
   "source": [
    "df.iloc[0]"
   ]
  },
  {
   "cell_type": "code",
   "execution_count": 22,
   "id": "f62ee61d",
   "metadata": {},
   "outputs": [
    {
     "data": {
      "text/plain": [
       "japan        89.599998\n",
       "shrilanka    47.000000\n",
       "nepal        33.119999\n",
       "Name: G7, dtype: float32"
      ]
     },
     "execution_count": 22,
     "metadata": {},
     "output_type": "execute_result"
    }
   ],
   "source": [
    "df.iloc[1:4]"
   ]
  },
  {
   "cell_type": "code",
   "execution_count": 23,
   "id": "26f76043",
   "metadata": {},
   "outputs": [],
   "source": [
    "df.columns=['name','GDP']"
   ]
  },
  {
   "cell_type": "code",
   "execution_count": 24,
   "id": "db8ae5bd",
   "metadata": {},
   "outputs": [
    {
     "data": {
      "text/plain": [
       "india         45.650002\n",
       "japan         89.599998\n",
       "shrilanka     47.000000\n",
       "nepal         33.119999\n",
       "USA           34.639999\n",
       "Brazil       112.889999\n",
       "UK            43.779999\n",
       "Australia    100.000000\n",
       "Butan         89.000000\n",
       "Name: G7, dtype: float32"
      ]
     },
     "execution_count": 24,
     "metadata": {},
     "output_type": "execute_result"
    }
   ],
   "source": [
    "df"
   ]
  },
  {
   "cell_type": "code",
   "execution_count": 25,
   "id": "7103d559",
   "metadata": {},
   "outputs": [
    {
     "data": {
      "text/plain": [
       "india        45.650002\n",
       "japan        89.599998\n",
       "shrilanka    47.000000\n",
       "Name: G7, dtype: float32"
      ]
     },
     "execution_count": 25,
     "metadata": {},
     "output_type": "execute_result"
    }
   ],
   "source": [
    "df.head(3)"
   ]
  },
  {
   "cell_type": "code",
   "execution_count": 26,
   "id": "ae8f9c39",
   "metadata": {},
   "outputs": [
    {
     "data": {
      "text/plain": [
       "89.0"
      ]
     },
     "execution_count": 26,
     "metadata": {},
     "output_type": "execute_result"
    }
   ],
   "source": [
    "df.iloc[-1]"
   ]
  },
  {
   "cell_type": "code",
   "execution_count": 27,
   "id": "4a1f9d54",
   "metadata": {},
   "outputs": [
    {
     "data": {
      "text/plain": [
       "japan    89.599998\n",
       "india    45.650002\n",
       "Name: G7, dtype: float32"
      ]
     },
     "execution_count": 27,
     "metadata": {},
     "output_type": "execute_result"
    }
   ],
   "source": [
    "df[['japan','india']]"
   ]
  },
  {
   "cell_type": "code",
   "execution_count": 28,
   "id": "23aca827",
   "metadata": {},
   "outputs": [
    {
     "data": {
      "text/plain": [
       "nepal    33.119999\n",
       "UK       43.779999\n",
       "Name: G7, dtype: float32"
      ]
     },
     "execution_count": 28,
     "metadata": {},
     "output_type": "execute_result"
    }
   ],
   "source": [
    "df.iloc[[3,6]]"
   ]
  },
  {
   "cell_type": "code",
   "execution_count": 29,
   "id": "0901fe54",
   "metadata": {},
   "outputs": [
    {
     "data": {
      "text/plain": [
       "india         45.650002\n",
       "japan         89.599998\n",
       "shrilanka     47.000000\n",
       "nepal         33.119999\n",
       "USA           34.639999\n",
       "Brazil       112.889999\n",
       "UK            43.779999\n",
       "Australia    100.000000\n",
       "Butan         89.000000\n",
       "Name: G7, dtype: float32"
      ]
     },
     "execution_count": 29,
     "metadata": {},
     "output_type": "execute_result"
    }
   ],
   "source": [
    "df "
   ]
  },
  {
   "cell_type": "code",
   "execution_count": 31,
   "id": "20f4061a",
   "metadata": {},
   "outputs": [
    {
     "data": {
      "text/plain": [
       "india        False\n",
       "japan         True\n",
       "shrilanka    False\n",
       "nepal        False\n",
       "USA          False\n",
       "Brazil        True\n",
       "UK           False\n",
       "Australia     True\n",
       "Butan         True\n",
       "Name: G7, dtype: bool"
      ]
     },
     "execution_count": 31,
     "metadata": {},
     "output_type": "execute_result"
    }
   ],
   "source": [
    "df>50"
   ]
  },
  {
   "cell_type": "code",
   "execution_count": 32,
   "id": "2d50d6d6",
   "metadata": {},
   "outputs": [
    {
     "data": {
      "text/plain": [
       "japan         89.599998\n",
       "Brazil       112.889999\n",
       "Australia    100.000000\n",
       "Butan         89.000000\n",
       "Name: G7, dtype: float32"
      ]
     },
     "execution_count": 32,
     "metadata": {},
     "output_type": "execute_result"
    }
   ],
   "source": [
    "df[df>50]"
   ]
  },
  {
   "cell_type": "code",
   "execution_count": 33,
   "id": "f366a92e",
   "metadata": {},
   "outputs": [
    {
     "data": {
      "text/plain": [
       "66.18667"
      ]
     },
     "execution_count": 33,
     "metadata": {},
     "output_type": "execute_result"
    }
   ],
   "source": [
    "df.mean()"
   ]
  },
  {
   "cell_type": "code",
   "execution_count": 35,
   "id": "64ae4802",
   "metadata": {},
   "outputs": [
    {
     "data": {
      "text/plain": [
       "9"
      ]
     },
     "execution_count": 35,
     "metadata": {},
     "output_type": "execute_result"
    }
   ],
   "source": [
    "df.count()"
   ]
  },
  {
   "cell_type": "code",
   "execution_count": 37,
   "id": "4f8fb8ed",
   "metadata": {},
   "outputs": [
    {
     "data": {
      "text/plain": [
       "31.17233"
      ]
     },
     "execution_count": 37,
     "metadata": {},
     "output_type": "execute_result"
    }
   ],
   "source": [
    "df.std()"
   ]
  },
  {
   "cell_type": "code",
   "execution_count": 38,
   "id": "89151676",
   "metadata": {},
   "outputs": [
    {
     "data": {
      "text/plain": [
       "india         45.650002\n",
       "japan         89.599998\n",
       "shrilanka     47.000000\n",
       "nepal         33.119999\n",
       "USA           34.639999\n",
       "Brazil       112.889999\n",
       "UK            43.779999\n",
       "Australia    100.000000\n",
       "Butan         89.000000\n",
       "Name: G7, dtype: float32"
      ]
     },
     "execution_count": 38,
     "metadata": {},
     "output_type": "execute_result"
    }
   ],
   "source": [
    "df[(df>df.mean() - df.std()/2) | (df<df.mean()+df.std()/2)]"
   ]
  },
  {
   "cell_type": "markdown",
   "id": "7ea70458",
   "metadata": {},
   "source": [
    "### oparation"
   ]
  },
  {
   "cell_type": "code",
   "execution_count": 39,
   "id": "cd3e97a9",
   "metadata": {},
   "outputs": [
    {
     "data": {
      "text/plain": [
       "india         55.650002\n",
       "japan         99.599998\n",
       "shrilanka     57.000000\n",
       "nepal         43.119999\n",
       "USA           44.639999\n",
       "Brazil       122.889999\n",
       "UK            53.779999\n",
       "Australia    110.000000\n",
       "Butan         99.000000\n",
       "Name: G7, dtype: float32"
      ]
     },
     "execution_count": 39,
     "metadata": {},
     "output_type": "execute_result"
    }
   ],
   "source": [
    "df+10"
   ]
  },
  {
   "cell_type": "code",
   "execution_count": 40,
   "id": "81422e93",
   "metadata": {},
   "outputs": [
    {
     "data": {
      "text/plain": [
       "india         2083.922607\n",
       "japan         8028.159668\n",
       "shrilanka     2209.000000\n",
       "nepal         1096.934326\n",
       "USA           1199.929565\n",
       "Brazil       12744.152344\n",
       "UK            1916.688232\n",
       "Australia    10000.000000\n",
       "Butan         7921.000000\n",
       "Name: G7, dtype: float32"
      ]
     },
     "execution_count": 40,
     "metadata": {},
     "output_type": "execute_result"
    }
   ],
   "source": [
    "df**2"
   ]
  },
  {
   "cell_type": "code",
   "execution_count": 41,
   "id": "d3466203",
   "metadata": {},
   "outputs": [
    {
     "data": {
      "text/plain": [
       "india         43.650002\n",
       "japan         87.599998\n",
       "shrilanka     45.000000\n",
       "nepal         31.119999\n",
       "USA           32.639999\n",
       "Brazil       110.889999\n",
       "UK            41.779999\n",
       "Australia     98.000000\n",
       "Butan         87.000000\n",
       "Name: G7, dtype: float32"
      ]
     },
     "execution_count": 41,
     "metadata": {},
     "output_type": "execute_result"
    }
   ],
   "source": [
    "df-2"
   ]
  },
  {
   "cell_type": "code",
   "execution_count": 42,
   "id": "4d905e8f",
   "metadata": {},
   "outputs": [
    {
     "data": {
      "text/plain": [
       "india        22.825001\n",
       "japan        44.799999\n",
       "shrilanka    23.500000\n",
       "nepal        16.559999\n",
       "USA          17.320000\n",
       "Brazil       56.445000\n",
       "UK           21.889999\n",
       "Australia    50.000000\n",
       "Butan        44.500000\n",
       "Name: G7, dtype: float32"
      ]
     },
     "execution_count": 42,
     "metadata": {},
     "output_type": "execute_result"
    }
   ],
   "source": [
    "df/2"
   ]
  },
  {
   "cell_type": "code",
   "execution_count": 45,
   "id": "0445c8bb",
   "metadata": {},
   "outputs": [
    {
     "data": {
      "text/plain": [
       "58.09714"
      ]
     },
     "execution_count": 45,
     "metadata": {},
     "output_type": "execute_result"
    }
   ],
   "source": [
    "df['india':'UK'].mean()"
   ]
  },
  {
   "cell_type": "code",
   "execution_count": 46,
   "id": "38494586",
   "metadata": {},
   "outputs": [
    {
     "data": {
      "text/plain": [
       "180.65"
      ]
     },
     "execution_count": 46,
     "metadata": {},
     "output_type": "execute_result"
    }
   ],
   "source": [
    "df.iloc[3:6].sum()"
   ]
  },
  {
   "cell_type": "markdown",
   "id": "b62f31e3",
   "metadata": {},
   "source": [
    "#### Boolen arrays "
   ]
  },
  {
   "cell_type": "code",
   "execution_count": 47,
   "id": "aff001e7",
   "metadata": {},
   "outputs": [
    {
     "data": {
      "text/plain": [
       "india        False\n",
       "japan         True\n",
       "shrilanka    False\n",
       "nepal        False\n",
       "USA          False\n",
       "Brazil        True\n",
       "UK           False\n",
       "Australia     True\n",
       "Butan         True\n",
       "Name: G7, dtype: bool"
      ]
     },
     "execution_count": 47,
     "metadata": {},
     "output_type": "execute_result"
    }
   ],
   "source": [
    "df>50"
   ]
  },
  {
   "cell_type": "code",
   "execution_count": 48,
   "id": "a15411f1",
   "metadata": {},
   "outputs": [
    {
     "data": {
      "text/plain": [
       "india        45.650002\n",
       "japan        89.599998\n",
       "shrilanka    47.000000\n",
       "nepal        33.119999\n",
       "USA          34.639999\n",
       "UK           43.779999\n",
       "Butan        89.000000\n",
       "Name: G7, dtype: float32"
      ]
     },
     "execution_count": 48,
     "metadata": {},
     "output_type": "execute_result"
    }
   ],
   "source": [
    "df[df<100]"
   ]
  },
  {
   "cell_type": "code",
   "execution_count": 49,
   "id": "59d334b3",
   "metadata": {},
   "outputs": [
    {
     "data": {
      "text/plain": [
       "india         45.650002\n",
       "shrilanka     47.000000\n",
       "nepal         33.119999\n",
       "USA           34.639999\n",
       "Brazil       112.889999\n",
       "UK            43.779999\n",
       "Name: G7, dtype: float32"
      ]
     },
     "execution_count": 49,
     "metadata": {},
     "output_type": "execute_result"
    }
   ],
   "source": [
    "df[(df<70)|(df>100)]"
   ]
  },
  {
   "cell_type": "markdown",
   "id": "443b8f34",
   "metadata": {},
   "source": [
    "#### modifying array"
   ]
  },
  {
   "cell_type": "code",
   "execution_count": 50,
   "id": "e9c58868",
   "metadata": {},
   "outputs": [],
   "source": [
    "df['india']=177"
   ]
  },
  {
   "cell_type": "code",
   "execution_count": 51,
   "id": "5ded4b44",
   "metadata": {},
   "outputs": [],
   "source": [
    "df.iloc[-1]=77"
   ]
  },
  {
   "cell_type": "code",
   "execution_count": 52,
   "id": "3f241611",
   "metadata": {},
   "outputs": [
    {
     "data": {
      "text/plain": [
       "india        177.000000\n",
       "japan         89.599998\n",
       "shrilanka     47.000000\n",
       "nepal         33.119999\n",
       "USA           34.639999\n",
       "Brazil       112.889999\n",
       "UK            43.779999\n",
       "Australia    100.000000\n",
       "Butan         77.000000\n",
       "Name: G7, dtype: float32"
      ]
     },
     "execution_count": 52,
     "metadata": {},
     "output_type": "execute_result"
    }
   ],
   "source": [
    "df"
   ]
  },
  {
   "cell_type": "code",
   "execution_count": null,
   "id": "ad218909",
   "metadata": {},
   "outputs": [],
   "source": []
  }
 ],
 "metadata": {
  "kernelspec": {
   "display_name": "Python 3 (ipykernel)",
   "language": "python",
   "name": "python3"
  },
  "language_info": {
   "codemirror_mode": {
    "name": "ipython",
    "version": 3
   },
   "file_extension": ".py",
   "mimetype": "text/x-python",
   "name": "python",
   "nbconvert_exporter": "python",
   "pygments_lexer": "ipython3",
   "version": "3.9.2"
  }
 },
 "nbformat": 4,
 "nbformat_minor": 5
}

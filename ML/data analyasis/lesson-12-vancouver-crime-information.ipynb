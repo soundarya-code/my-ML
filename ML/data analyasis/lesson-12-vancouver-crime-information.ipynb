{
 "cells": [
  {
   "cell_type": "code",
   "execution_count": 1,
   "id": "ee06f4ab",
   "metadata": {},
   "outputs": [],
   "source": [
    "import numpy as np\n",
    "import pandas as pd\n",
    "import sqlite3"
   ]
  },
  {
   "cell_type": "code",
   "execution_count": 2,
   "id": "aa5e1150",
   "metadata": {},
   "outputs": [],
   "source": [
    "conn=sqlite3.connect(':memory:')"
   ]
  },
  {
   "cell_type": "code",
   "execution_count": 3,
   "id": "99a4ad5b",
   "metadata": {},
   "outputs": [],
   "source": [
    "c=conn.cursor()"
   ]
  },
  {
   "cell_type": "code",
   "execution_count": 5,
   "id": "1bceb7b4",
   "metadata": {},
   "outputs": [
    {
     "data": {
      "text/plain": [
       "<sqlite3.Cursor at 0x1c02dd58030>"
      ]
     },
     "execution_count": 5,
     "metadata": {},
     "output_type": "execute_result"
    }
   ],
   "source": [
    "c.executescript(open('van_crime_2003.sql.txt','r').read())"
   ]
  },
  {
   "cell_type": "code",
   "execution_count": 7,
   "id": "9eca78b7",
   "metadata": {},
   "outputs": [],
   "source": [
    "df=pd.read_sql('select * from van_crimes WHERE hour > 14',conn)"
   ]
  },
  {
   "cell_type": "code",
   "execution_count": 8,
   "id": "502e2930",
   "metadata": {},
   "outputs": [],
   "source": [
    "late_crime=df.loc[df['HOUR']>18]"
   ]
  },
  {
   "cell_type": "code",
   "execution_count": 16,
   "id": "3c6a8ae1",
   "metadata": {},
   "outputs": [
    {
     "data": {
      "text/html": [
       "<div>\n",
       "<style scoped>\n",
       "    .dataframe tbody tr th:only-of-type {\n",
       "        vertical-align: middle;\n",
       "    }\n",
       "\n",
       "    .dataframe tbody tr th {\n",
       "        vertical-align: top;\n",
       "    }\n",
       "\n",
       "    .dataframe thead th {\n",
       "        text-align: right;\n",
       "    }\n",
       "</style>\n",
       "<table border=\"1\" class=\"dataframe\">\n",
       "  <thead>\n",
       "    <tr style=\"text-align: right;\">\n",
       "      <th></th>\n",
       "      <th>TYPE</th>\n",
       "      <th>YEAR</th>\n",
       "      <th>MONTH</th>\n",
       "      <th>DAY</th>\n",
       "      <th>HOUR</th>\n",
       "      <th>MINUTE</th>\n",
       "      <th>HUNDRED_BLOCK</th>\n",
       "      <th>NEIGHBOURHOOD</th>\n",
       "      <th>X</th>\n",
       "      <th>Y</th>\n",
       "    </tr>\n",
       "  </thead>\n",
       "  <tbody>\n",
       "    <tr>\n",
       "      <th>4</th>\n",
       "      <td>Theft of Vehicle</td>\n",
       "      <td>2003</td>\n",
       "      <td>9</td>\n",
       "      <td>2.0</td>\n",
       "      <td>21.0</td>\n",
       "      <td>0.0</td>\n",
       "      <td>20XX E 28TH AVE</td>\n",
       "      <td>Kensington-Cedar Cottage</td>\n",
       "      <td>495267.03</td>\n",
       "      <td>5454779.05</td>\n",
       "    </tr>\n",
       "    <tr>\n",
       "      <th>5</th>\n",
       "      <td>Theft from Vehicle</td>\n",
       "      <td>2003</td>\n",
       "      <td>9</td>\n",
       "      <td>27.0</td>\n",
       "      <td>22.0</td>\n",
       "      <td>30.0</td>\n",
       "      <td>85XX STANLEY PARK DR</td>\n",
       "      <td>Stanley Park</td>\n",
       "      <td>489104.19</td>\n",
       "      <td>5460347.36</td>\n",
       "    </tr>\n",
       "  </tbody>\n",
       "</table>\n",
       "</div>"
      ],
      "text/plain": [
       "                 TYPE  YEAR  MONTH   DAY  HOUR  MINUTE         HUNDRED_BLOCK  \\\n",
       "4    Theft of Vehicle  2003      9   2.0  21.0     0.0       20XX E 28TH AVE   \n",
       "5  Theft from Vehicle  2003      9  27.0  22.0    30.0  85XX STANLEY PARK DR   \n",
       "\n",
       "              NEIGHBOURHOOD          X           Y  \n",
       "4  Kensington-Cedar Cottage  495267.03  5454779.05  \n",
       "5              Stanley Park  489104.19  5460347.36  "
      ]
     },
     "execution_count": 16,
     "metadata": {},
     "output_type": "execute_result"
    }
   ],
   "source": [
    "late_crime.head(2)"
   ]
  },
  {
   "cell_type": "code",
   "execution_count": 14,
   "id": "6cc3efbe",
   "metadata": {},
   "outputs": [],
   "source": [
    "dangerous_crime=df.loc[:,'MONTH'].value_counts"
   ]
  },
  {
   "cell_type": "code",
   "execution_count": 15,
   "id": "49123d55",
   "metadata": {},
   "outputs": [
    {
     "data": {
      "text/plain": [
       "<bound method IndexOpsMixin.value_counts of 0      11\n",
       "1      12\n",
       "2      12\n",
       "3      11\n",
       "4       9\n",
       "       ..\n",
       "121     2\n",
       "122    12\n",
       "123     6\n",
       "124     4\n",
       "125     8\n",
       "Name: MONTH, Length: 126, dtype: int64>"
      ]
     },
     "execution_count": 15,
     "metadata": {},
     "output_type": "execute_result"
    }
   ],
   "source": [
    "dangerous_crime"
   ]
  },
  {
   "cell_type": "code",
   "execution_count": 18,
   "id": "36eaad72",
   "metadata": {},
   "outputs": [],
   "source": [
    "crime_df=pd.read_sql('''select type,month,day,\n",
    "neighbourhood from van_crimes where neighbourhood in('Kensington-Cedar Cottage','Stanley Park')''',conn)"
   ]
  },
  {
   "cell_type": "code",
   "execution_count": 19,
   "id": "57e8214e",
   "metadata": {},
   "outputs": [],
   "source": [
    "crime_value_count=crime_df['TYPE'].value_counts()"
   ]
  },
  {
   "cell_type": "code",
   "execution_count": 20,
   "id": "a734c627",
   "metadata": {},
   "outputs": [],
   "source": [
    "c.close()"
   ]
  },
  {
   "cell_type": "code",
   "execution_count": 21,
   "id": "29c10994",
   "metadata": {},
   "outputs": [],
   "source": [
    "conn.close()"
   ]
  },
  {
   "cell_type": "code",
   "execution_count": null,
   "id": "7f1844d1",
   "metadata": {},
   "outputs": [],
   "source": []
  }
 ],
 "metadata": {
  "kernelspec": {
   "display_name": "Python 3 (ipykernel)",
   "language": "python",
   "name": "python3"
  },
  "language_info": {
   "codemirror_mode": {
    "name": "ipython",
    "version": 3
   },
   "file_extension": ".py",
   "mimetype": "text/x-python",
   "name": "python",
   "nbconvert_exporter": "python",
   "pygments_lexer": "ipython3",
   "version": "3.9.2"
  }
 },
 "nbformat": 4,
 "nbformat_minor": 5
}

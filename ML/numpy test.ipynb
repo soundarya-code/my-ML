{
 "cells": [
  {
   "cell_type": "code",
   "execution_count": 1,
   "id": "6dc9c22f",
   "metadata": {},
   "outputs": [],
   "source": [
    "import numpy as np"
   ]
  },
  {
   "cell_type": "code",
   "execution_count": 2,
   "id": "856cd458",
   "metadata": {},
   "outputs": [],
   "source": [
    "a=np.array([1,2,4,5],dtype='int8')"
   ]
  },
  {
   "cell_type": "code",
   "execution_count": 3,
   "id": "bf2c08af",
   "metadata": {},
   "outputs": [
    {
     "name": "stdout",
     "output_type": "stream",
     "text": [
      "[1 2 4 5]\n"
     ]
    }
   ],
   "source": [
    "print(a)"
   ]
  },
  {
   "cell_type": "code",
   "execution_count": 4,
   "id": "c233560f",
   "metadata": {},
   "outputs": [],
   "source": [
    "b=np.array([[8,9,6,4],[8,5,3,100]])"
   ]
  },
  {
   "cell_type": "code",
   "execution_count": 5,
   "id": "16f01648",
   "metadata": {},
   "outputs": [
    {
     "name": "stdout",
     "output_type": "stream",
     "text": [
      "[[  8   9   6   4]\n",
      " [  8   5   3 100]]\n"
     ]
    }
   ],
   "source": [
    "print(b)"
   ]
  },
  {
   "cell_type": "code",
   "execution_count": 6,
   "id": "022fbe76",
   "metadata": {},
   "outputs": [
    {
     "data": {
      "text/plain": [
       "1"
      ]
     },
     "execution_count": 6,
     "metadata": {},
     "output_type": "execute_result"
    }
   ],
   "source": [
    "# Get dimenshion\n",
    "a.ndim"
   ]
  },
  {
   "cell_type": "code",
   "execution_count": 7,
   "id": "ee6298d7",
   "metadata": {},
   "outputs": [
    {
     "data": {
      "text/plain": [
       "(4,)"
      ]
     },
     "execution_count": 7,
     "metadata": {},
     "output_type": "execute_result"
    }
   ],
   "source": [
    "# Get shape\n",
    "a.shape"
   ]
  },
  {
   "cell_type": "code",
   "execution_count": 8,
   "id": "f0e7020d",
   "metadata": {},
   "outputs": [
    {
     "data": {
      "text/plain": [
       "dtype('int8')"
      ]
     },
     "execution_count": 8,
     "metadata": {},
     "output_type": "execute_result"
    }
   ],
   "source": [
    "# get type\n",
    "a.dtype"
   ]
  },
  {
   "cell_type": "code",
   "execution_count": 9,
   "id": "1e1bf0c0",
   "metadata": {},
   "outputs": [
    {
     "data": {
      "text/plain": [
       "1"
      ]
     },
     "execution_count": 9,
     "metadata": {},
     "output_type": "execute_result"
    }
   ],
   "source": [
    "# get each item size\n",
    "a.itemsize"
   ]
  },
  {
   "cell_type": "code",
   "execution_count": 10,
   "id": "e70fee82",
   "metadata": {},
   "outputs": [
    {
     "data": {
      "text/plain": [
       "4"
      ]
     },
     "execution_count": 10,
     "metadata": {},
     "output_type": "execute_result"
    }
   ],
   "source": [
    "# get total size\n",
    "a.size*a.itemsize\n",
    "# or\n",
    "a.nbytes"
   ]
  },
  {
   "cell_type": "code",
   "execution_count": 11,
   "id": "26f8f81b",
   "metadata": {},
   "outputs": [
    {
     "data": {
      "text/plain": [
       "4"
      ]
     },
     "execution_count": 11,
     "metadata": {},
     "output_type": "execute_result"
    }
   ],
   "source": [
    "# get total size\n",
    "a.nbytes"
   ]
  },
  {
   "cell_type": "markdown",
   "id": "5860f714",
   "metadata": {},
   "source": [
    "# accessing/changing specific elements,rows,colums etc\n"
   ]
  },
  {
   "cell_type": "code",
   "execution_count": 12,
   "id": "97a06487",
   "metadata": {},
   "outputs": [],
   "source": [
    "r=np.array([[1,2,3,4,5,6,7,8,9],[11,12,13,14,15,16,17,18,19]])"
   ]
  },
  {
   "cell_type": "code",
   "execution_count": 13,
   "id": "a35cb44c",
   "metadata": {},
   "outputs": [
    {
     "name": "stdout",
     "output_type": "stream",
     "text": [
      "[[ 1  2  3  4  5  6  7  8  9]\n",
      " [11 12 13 14 15 16 17 18 19]]\n"
     ]
    }
   ],
   "source": [
    "print(r)"
   ]
  },
  {
   "cell_type": "code",
   "execution_count": 14,
   "id": "6d41c08c",
   "metadata": {},
   "outputs": [
    {
     "data": {
      "text/plain": [
       "array([11, 12, 13, 14, 15, 16, 17, 18, 19])"
      ]
     },
     "execution_count": 14,
     "metadata": {},
     "output_type": "execute_result"
    }
   ],
   "source": [
    "r[1]"
   ]
  },
  {
   "cell_type": "code",
   "execution_count": 15,
   "id": "d8700104",
   "metadata": {},
   "outputs": [
    {
     "data": {
      "text/plain": [
       "18"
      ]
     },
     "execution_count": 15,
     "metadata": {},
     "output_type": "execute_result"
    }
   ],
   "source": [
    "r[1,-2]"
   ]
  },
  {
   "cell_type": "code",
   "execution_count": 16,
   "id": "cb86a6ab",
   "metadata": {},
   "outputs": [
    {
     "data": {
      "text/plain": [
       "2"
      ]
     },
     "execution_count": 16,
     "metadata": {},
     "output_type": "execute_result"
    }
   ],
   "source": [
    "r.ndim"
   ]
  },
  {
   "cell_type": "code",
   "execution_count": 17,
   "id": "6d41ae8f",
   "metadata": {},
   "outputs": [
    {
     "data": {
      "text/plain": [
       "16"
      ]
     },
     "execution_count": 17,
     "metadata": {},
     "output_type": "execute_result"
    }
   ],
   "source": [
    "r[1,-4]"
   ]
  },
  {
   "cell_type": "code",
   "execution_count": 18,
   "id": "0a7ec095",
   "metadata": {},
   "outputs": [
    {
     "data": {
      "text/plain": [
       "array([1, 2, 3, 4, 5, 6, 7, 8, 9])"
      ]
     },
     "execution_count": 18,
     "metadata": {},
     "output_type": "execute_result"
    }
   ],
   "source": [
    "# get specific row\n",
    "r[0,:]"
   ]
  },
  {
   "cell_type": "code",
   "execution_count": 19,
   "id": "6c4768dd",
   "metadata": {},
   "outputs": [
    {
     "data": {
      "text/plain": [
       "array([ 8, 18])"
      ]
     },
     "execution_count": 19,
     "metadata": {},
     "output_type": "execute_result"
    }
   ],
   "source": [
    "# get specific column\n",
    "r[:,7]"
   ]
  },
  {
   "cell_type": "code",
   "execution_count": 20,
   "id": "a24a174f",
   "metadata": {},
   "outputs": [
    {
     "data": {
      "text/plain": [
       "array([4, 5, 6, 7, 8])"
      ]
     },
     "execution_count": 20,
     "metadata": {},
     "output_type": "execute_result"
    }
   ],
   "source": [
    "# getting little more fancy [startindex:endingIndex:stepsize]\n",
    "r[0,3:8:1]\n",
    "# here step is 1"
   ]
  },
  {
   "cell_type": "code",
   "execution_count": 21,
   "id": "8f771867",
   "metadata": {},
   "outputs": [],
   "source": [
    "r[1,5]=20"
   ]
  },
  {
   "cell_type": "code",
   "execution_count": 22,
   "id": "6d0c3d61",
   "metadata": {},
   "outputs": [
    {
     "name": "stdout",
     "output_type": "stream",
     "text": [
      "[[ 1  2  3  4  5  6  7  8  9]\n",
      " [11 12 13 14 15 20 17 18 19]]\n"
     ]
    }
   ],
   "source": [
    "print(r)"
   ]
  },
  {
   "cell_type": "code",
   "execution_count": 23,
   "id": "510bb5c3",
   "metadata": {},
   "outputs": [
    {
     "name": "stdout",
     "output_type": "stream",
     "text": [
      "[[ 1  2  5  4  5  6  7  8  9]\n",
      " [11 12  5 14 15 20 17 18 19]]\n",
      "[[ 1  2 66  4  5  6  7  8  9]\n",
      " [11 12 77 14 15 20 17 18 19]]\n"
     ]
    }
   ],
   "source": [
    "r[:,2]=5\n",
    "print(r)\n",
    "r[:,2]=[66,77]\n",
    "print(r)"
   ]
  },
  {
   "cell_type": "markdown",
   "id": "aa8d09a4",
   "metadata": {},
   "source": [
    "3d*example"
   ]
  },
  {
   "cell_type": "code",
   "execution_count": 24,
   "id": "fd7d5ee0",
   "metadata": {},
   "outputs": [
    {
     "name": "stdout",
     "output_type": "stream",
     "text": [
      "[[[ 1  2  3]\n",
      "  [ 4  5  6]]\n",
      "\n",
      " [[ 7  8  9]\n",
      "  [11 12 13]]]\n"
     ]
    }
   ],
   "source": [
    "s=np.array([[[1,2,3],[4,5,6]],[[7,8,9],[11,12,13]]])\n",
    "print(s)"
   ]
  },
  {
   "cell_type": "code",
   "execution_count": 25,
   "id": "5a029f6b",
   "metadata": {},
   "outputs": [
    {
     "data": {
      "text/plain": [
       "9"
      ]
     },
     "execution_count": 25,
     "metadata": {},
     "output_type": "execute_result"
    }
   ],
   "source": [
    "# get specific element\n",
    "s[1,0,2]"
   ]
  },
  {
   "cell_type": "code",
   "execution_count": 26,
   "id": "24dc9225",
   "metadata": {},
   "outputs": [
    {
     "data": {
      "text/plain": [
       "array([[ 4,  5,  6],\n",
       "       [11, 12, 13]])"
      ]
     },
     "execution_count": 26,
     "metadata": {},
     "output_type": "execute_result"
    }
   ],
   "source": [
    "s[:,1,:]"
   ]
  },
  {
   "cell_type": "code",
   "execution_count": 27,
   "id": "010b065e",
   "metadata": {},
   "outputs": [
    {
     "data": {
      "text/plain": [
       "array([[1, 2, 3],\n",
       "       [7, 8, 9]])"
      ]
     },
     "execution_count": 27,
     "metadata": {},
     "output_type": "execute_result"
    }
   ],
   "source": [
    "s[:,0,:]"
   ]
  },
  {
   "cell_type": "code",
   "execution_count": 28,
   "id": "9e9c00cc",
   "metadata": {},
   "outputs": [],
   "source": [
    "s[:,1,:]=[[9,9,9],[4,4,4]]"
   ]
  },
  {
   "cell_type": "code",
   "execution_count": 29,
   "id": "68941e6d",
   "metadata": {},
   "outputs": [
    {
     "name": "stdout",
     "output_type": "stream",
     "text": [
      "[[[1 2 3]\n",
      "  [9 9 9]]\n",
      "\n",
      " [[7 8 9]\n",
      "  [4 4 4]]]\n"
     ]
    }
   ],
   "source": [
    "print(s)"
   ]
  },
  {
   "cell_type": "markdown",
   "id": "657245bf",
   "metadata": {},
   "source": [
    "# Initiazing different type of arrays\n"
   ]
  },
  {
   "cell_type": "code",
   "execution_count": 30,
   "id": "4644f697",
   "metadata": {},
   "outputs": [],
   "source": [
    "# initiazing zeroes matrix\n",
    "d=np.zeros((2,4,4,2))"
   ]
  },
  {
   "cell_type": "code",
   "execution_count": 31,
   "id": "98d86908",
   "metadata": {},
   "outputs": [
    {
     "data": {
      "text/plain": [
       "array([[[[0., 0.],\n",
       "         [0., 0.],\n",
       "         [0., 0.],\n",
       "         [0., 0.]],\n",
       "\n",
       "        [[0., 0.],\n",
       "         [0., 0.],\n",
       "         [0., 0.],\n",
       "         [0., 0.]],\n",
       "\n",
       "        [[0., 0.],\n",
       "         [0., 0.],\n",
       "         [0., 0.],\n",
       "         [0., 0.]],\n",
       "\n",
       "        [[0., 0.],\n",
       "         [0., 0.],\n",
       "         [0., 0.],\n",
       "         [0., 0.]]],\n",
       "\n",
       "\n",
       "       [[[0., 0.],\n",
       "         [0., 0.],\n",
       "         [0., 0.],\n",
       "         [0., 0.]],\n",
       "\n",
       "        [[0., 0.],\n",
       "         [0., 0.],\n",
       "         [0., 0.],\n",
       "         [0., 0.]],\n",
       "\n",
       "        [[0., 0.],\n",
       "         [0., 0.],\n",
       "         [0., 0.],\n",
       "         [0., 0.]],\n",
       "\n",
       "        [[0., 0.],\n",
       "         [0., 0.],\n",
       "         [0., 0.],\n",
       "         [0., 0.]]]])"
      ]
     },
     "execution_count": 31,
     "metadata": {},
     "output_type": "execute_result"
    }
   ],
   "source": [
    "d"
   ]
  },
  {
   "cell_type": "code",
   "execution_count": 32,
   "id": "d8fbc3f6",
   "metadata": {},
   "outputs": [],
   "source": [
    "d=np.zeros((2,3))"
   ]
  },
  {
   "cell_type": "code",
   "execution_count": 33,
   "id": "3b5f24e8",
   "metadata": {},
   "outputs": [],
   "source": [
    "one=np.ones((3,4,4))\n",
    "# np.ones(number of boxes,number of rows,number of columns,if added number here it is become 4 dimenshions)"
   ]
  },
  {
   "cell_type": "code",
   "execution_count": 34,
   "id": "4a669b77",
   "metadata": {},
   "outputs": [
    {
     "name": "stdout",
     "output_type": "stream",
     "text": [
      "[[[1. 1. 1. 1.]\n",
      "  [1. 1. 1. 1.]\n",
      "  [1. 1. 1. 1.]\n",
      "  [1. 1. 1. 1.]]\n",
      "\n",
      " [[1. 1. 1. 1.]\n",
      "  [1. 1. 1. 1.]\n",
      "  [1. 1. 1. 1.]\n",
      "  [1. 1. 1. 1.]]\n",
      "\n",
      " [[1. 1. 1. 1.]\n",
      "  [1. 1. 1. 1.]\n",
      "  [1. 1. 1. 1.]\n",
      "  [1. 1. 1. 1.]]]\n"
     ]
    }
   ],
   "source": [
    "print(one)"
   ]
  },
  {
   "cell_type": "code",
   "execution_count": 35,
   "id": "efd05cdc",
   "metadata": {},
   "outputs": [
    {
     "data": {
      "text/plain": [
       "array([[1998., 1998.],\n",
       "       [1998., 1998.]], dtype=float32)"
      ]
     },
     "execution_count": 35,
     "metadata": {},
     "output_type": "execute_result"
    }
   ],
   "source": [
    "# any other number than 0 and 1\n",
    "np.full((2,2),1998,dtype='float32')"
   ]
  },
  {
   "cell_type": "code",
   "execution_count": 36,
   "id": "148dc1e0",
   "metadata": {},
   "outputs": [
    {
     "data": {
      "text/plain": [
       "array([[67, 67, 67, 67, 67, 67, 67, 67, 67],\n",
       "       [67, 67, 67, 67, 67, 67, 67, 67, 67]])"
      ]
     },
     "execution_count": 36,
     "metadata": {},
     "output_type": "execute_result"
    }
   ],
   "source": [
    "np.full_like(r,67)"
   ]
  },
  {
   "cell_type": "code",
   "execution_count": 37,
   "id": "9519b47e",
   "metadata": {},
   "outputs": [
    {
     "data": {
      "text/plain": [
       "array([[[0.93878868, 0.70100439, 0.22651804],\n",
       "        [0.54980519, 0.7903179 , 0.4471118 ],\n",
       "        [0.88224577, 0.93310301, 0.22648766],\n",
       "        [0.77283179, 0.16389348, 0.291432  ],\n",
       "        [0.77472933, 0.33101518, 0.15902484],\n",
       "        [0.99675035, 0.73167219, 0.61239786],\n",
       "        [0.34847134, 0.8694444 , 0.03553163]],\n",
       "\n",
       "       [[0.11620815, 0.50887919, 0.3895369 ],\n",
       "        [0.74597033, 0.6550252 , 0.72704114],\n",
       "        [0.92365001, 0.64798065, 0.38111343],\n",
       "        [0.68720919, 0.33510698, 0.00672018],\n",
       "        [0.53833985, 0.17933936, 0.40869964],\n",
       "        [0.46253432, 0.16464297, 0.23689744],\n",
       "        [0.60614345, 0.37727632, 0.21983251]],\n",
       "\n",
       "       [[0.26829444, 0.74807317, 0.36047321],\n",
       "        [0.00325642, 0.39255788, 0.23103457],\n",
       "        [0.42411242, 0.18247503, 0.41176416],\n",
       "        [0.27375457, 0.64637596, 0.94730459],\n",
       "        [0.13650985, 0.58965666, 0.18138351],\n",
       "        [0.11019852, 0.09516826, 0.44361837],\n",
       "        [0.96674042, 0.03590398, 0.35686934]],\n",
       "\n",
       "       [[0.74107717, 0.06019009, 0.55512154],\n",
       "        [0.24127532, 0.07322591, 0.0379432 ],\n",
       "        [0.40535489, 0.83989041, 0.37849286],\n",
       "        [0.42329071, 0.62280177, 0.11451849],\n",
       "        [0.32669206, 0.09670723, 0.15218332],\n",
       "        [0.26396677, 0.07270287, 0.94004596],\n",
       "        [0.75904539, 0.46548425, 0.65719506]]])"
      ]
     },
     "execution_count": 37,
     "metadata": {},
     "output_type": "execute_result"
    }
   ],
   "source": [
    "# Random decimal number\n",
    "np.random.rand(4,7,3)"
   ]
  },
  {
   "cell_type": "code",
   "execution_count": 38,
   "id": "a0ee08ac",
   "metadata": {},
   "outputs": [
    {
     "data": {
      "text/plain": [
       "array([[0.63758677, 0.53688113, 0.2220474 , 0.91264784, 0.86088908,\n",
       "        0.5632178 , 0.10256674, 0.25581133, 0.65408095],\n",
       "       [0.72338924, 0.17264577, 0.68707318, 0.42018636, 0.76637111,\n",
       "        0.68702777, 0.98212086, 0.10415449, 0.14316593]])"
      ]
     },
     "execution_count": 38,
     "metadata": {},
     "output_type": "execute_result"
    }
   ],
   "source": [
    "np.random.random_sample(r.shape)"
   ]
  },
  {
   "cell_type": "code",
   "execution_count": 39,
   "id": "3571745f",
   "metadata": {},
   "outputs": [
    {
     "data": {
      "text/plain": [
       "array([[1, 3, 5, 6],\n",
       "       [6, 2, 4, 4],\n",
       "       [2, 1, 5, 6],\n",
       "       [3, 3, 1, 5]])"
      ]
     },
     "execution_count": 39,
     "metadata": {},
     "output_type": "execute_result"
    }
   ],
   "source": [
    "# random interger values\n",
    "np.random.randint(7,size=(4,4))"
   ]
  },
  {
   "cell_type": "code",
   "execution_count": 40,
   "id": "d2ef260d",
   "metadata": {},
   "outputs": [
    {
     "data": {
      "text/plain": [
       "array([[1., 0., 0., 0.],\n",
       "       [0., 1., 0., 0.],\n",
       "       [0., 0., 1., 0.],\n",
       "       [0., 0., 0., 1.]])"
      ]
     },
     "execution_count": 40,
     "metadata": {},
     "output_type": "execute_result"
    }
   ],
   "source": [
    "# identity matrix\n",
    "np.identity(4)"
   ]
  },
  {
   "cell_type": "code",
   "execution_count": 41,
   "id": "25250822",
   "metadata": {},
   "outputs": [
    {
     "name": "stdout",
     "output_type": "stream",
     "text": [
      "[ 9  9  9 67 67 67 45 45 45]\n"
     ]
    }
   ],
   "source": [
    "arr=np.array([[9,67,45]])\n",
    "rep=np.repeat(arr,3)\n",
    "print(rep)"
   ]
  },
  {
   "cell_type": "code",
   "execution_count": 42,
   "id": "33b37928",
   "metadata": {},
   "outputs": [
    {
     "name": "stdout",
     "output_type": "stream",
     "text": [
      "[[2 2 2 5 5 5 2 2 2]\n",
      " [5 5 5 0 0 0 5 5 5]\n",
      " [4 4 4 1 1 1 3 3 3]]\n"
     ]
    }
   ],
   "source": [
    "arr1=np.random.randint(7,size=(3,3))\n",
    "arr2=np.repeat(arr1,3,axis=1)\n",
    "print(arr2)"
   ]
  },
  {
   "cell_type": "code",
   "execution_count": 43,
   "id": "6c75684e",
   "metadata": {},
   "outputs": [],
   "source": [
    "u=np.ones((5,5))"
   ]
  },
  {
   "cell_type": "code",
   "execution_count": 44,
   "id": "51157b7c",
   "metadata": {},
   "outputs": [
    {
     "name": "stdout",
     "output_type": "stream",
     "text": [
      "[[1. 1. 1. 1. 1.]\n",
      " [1. 1. 1. 1. 1.]\n",
      " [1. 1. 1. 1. 1.]\n",
      " [1. 1. 1. 1. 1.]\n",
      " [1. 1. 1. 1. 1.]]\n"
     ]
    }
   ],
   "source": [
    "print(u)"
   ]
  },
  {
   "cell_type": "code",
   "execution_count": 45,
   "id": "7742c58a",
   "metadata": {},
   "outputs": [
    {
     "name": "stdout",
     "output_type": "stream",
     "text": [
      "[[0. 0. 0.]\n",
      " [0. 9. 0.]\n",
      " [0. 0. 0.]]\n"
     ]
    }
   ],
   "source": [
    "p=np.zeros((3,3))\n",
    "p[1,1]=9 \n",
    "print(p)\n"
   ]
  },
  {
   "cell_type": "code",
   "execution_count": 46,
   "id": "5d72fb45",
   "metadata": {},
   "outputs": [
    {
     "name": "stdout",
     "output_type": "stream",
     "text": [
      "[[1. 1. 1. 1. 1.]\n",
      " [1. 0. 0. 0. 1.]\n",
      " [1. 0. 9. 0. 1.]\n",
      " [1. 0. 0. 0. 1.]\n",
      " [1. 1. 1. 1. 1.]]\n"
     ]
    }
   ],
   "source": [
    "u[1:4,1:4]=p\n",
    "print(u)"
   ]
  },
  {
   "cell_type": "markdown",
   "id": "65352872",
   "metadata": {},
   "source": [
    "# be careful when copying array!!!!!\n"
   ]
  },
  {
   "cell_type": "code",
   "execution_count": 48,
   "id": "d25f8314",
   "metadata": {},
   "outputs": [
    {
     "name": "stdout",
     "output_type": "stream",
     "text": [
      "[88  2  3  4]\n"
     ]
    }
   ],
   "source": [
    "l=np.array([1,2,3,4])\n",
    "m=l\n",
    "l[0]=88\n",
    "print(m)"
   ]
  },
  {
   "cell_type": "code",
   "execution_count": 49,
   "id": "50d6e8be",
   "metadata": {},
   "outputs": [
    {
     "name": "stdout",
     "output_type": "stream",
     "text": [
      "[88  2  3  4]\n"
     ]
    }
   ],
   "source": [
    "print(l)"
   ]
  },
  {
   "cell_type": "code",
   "execution_count": 51,
   "id": "d6051b90",
   "metadata": {},
   "outputs": [
    {
     "name": "stdout",
     "output_type": "stream",
     "text": [
      "[88  2  3  4]\n"
     ]
    }
   ],
   "source": [
    "# now see this\n",
    "l=np.array([1,2,3,4])\n",
    "m=l.copy()\n",
    "m[0]=88\n",
    "print(m)\n"
   ]
  },
  {
   "cell_type": "code",
   "execution_count": 52,
   "id": "4c49730d",
   "metadata": {},
   "outputs": [
    {
     "name": "stdout",
     "output_type": "stream",
     "text": [
      "[1 2 3 4]\n"
     ]
    }
   ],
   "source": [
    "print(l)"
   ]
  },
  {
   "cell_type": "code",
   "execution_count": 54,
   "id": "ec3e222b",
   "metadata": {},
   "outputs": [
    {
     "data": {
      "text/plain": [
       "array([3, 4, 5, 6])"
      ]
     },
     "execution_count": 54,
     "metadata": {},
     "output_type": "execute_result"
    }
   ],
   "source": [
    "l+2"
   ]
  },
  {
   "cell_type": "code",
   "execution_count": 55,
   "id": "649c2111",
   "metadata": {},
   "outputs": [
    {
     "data": {
      "text/plain": [
       "array([-2, -1,  1,  2], dtype=int8)"
      ]
     },
     "execution_count": 55,
     "metadata": {},
     "output_type": "execute_result"
    }
   ],
   "source": [
    "l-3"
   ]
  },
  {
   "cell_type": "code",
   "execution_count": 56,
   "id": "1c424728",
   "metadata": {},
   "outputs": [
    {
     "data": {
      "text/plain": [
       "array([ 3,  6, 12, 15], dtype=int8)"
      ]
     },
     "execution_count": 56,
     "metadata": {},
     "output_type": "execute_result"
    }
   ],
   "source": [
    "l*3"
   ]
  },
  {
   "cell_type": "code",
   "execution_count": 58,
   "id": "bb9f5703",
   "metadata": {},
   "outputs": [
    {
     "data": {
      "text/plain": [
       "array([0.5, 1. , 2. , 2.5])"
      ]
     },
     "execution_count": 58,
     "metadata": {},
     "output_type": "execute_result"
    }
   ],
   "source": [
    "l/2"
   ]
  },
  {
   "cell_type": "code",
   "execution_count": 59,
   "id": "d8da9d9b",
   "metadata": {},
   "outputs": [
    {
     "name": "stdout",
     "output_type": "stream",
     "text": [
      "[56 68 80 92]\n"
     ]
    }
   ],
   "source": [
    "w=np.array([55,66,77,88])\n",
    "print(l+w)\n"
   ]
  },
  {
   "cell_type": "code",
   "execution_count": 60,
   "id": "56483384",
   "metadata": {},
   "outputs": [
    {
     "name": "stdout",
     "output_type": "stream",
     "text": [
      "[-54 -64 -74 -84]\n"
     ]
    }
   ],
   "source": [
    "print(l-w)"
   ]
  },
  {
   "cell_type": "code",
   "execution_count": 61,
   "id": "637a495d",
   "metadata": {},
   "outputs": [
    {
     "name": "stdout",
     "output_type": "stream",
     "text": [
      "[ 55 132 231 352]\n"
     ]
    }
   ],
   "source": [
    "print(l*w)"
   ]
  },
  {
   "cell_type": "code",
   "execution_count": 62,
   "id": "79b6f15b",
   "metadata": {},
   "outputs": [
    {
     "name": "stdout",
     "output_type": "stream",
     "text": [
      "[0.01818182 0.03030303 0.03896104 0.04545455]\n"
     ]
    }
   ],
   "source": [
    "print(l/w)"
   ]
  },
  {
   "cell_type": "code",
   "execution_count": 63,
   "id": "62815606",
   "metadata": {},
   "outputs": [
    {
     "data": {
      "text/plain": [
       "array([ 0.84147098,  0.90929743,  0.14112001, -0.7568025 ])"
      ]
     },
     "execution_count": 63,
     "metadata": {},
     "output_type": "execute_result"
    }
   ],
   "source": [
    "np.sin(l)"
   ]
  },
  {
   "cell_type": "code",
   "execution_count": 64,
   "id": "e023f857",
   "metadata": {},
   "outputs": [
    {
     "data": {
      "text/plain": [
       "array([ 0.02212676, -0.99964746, -0.03097503,  0.99937328])"
      ]
     },
     "execution_count": 64,
     "metadata": {},
     "output_type": "execute_result"
    }
   ],
   "source": [
    "np.cos(w)"
   ]
  },
  {
   "cell_type": "markdown",
   "id": "27d8c844",
   "metadata": {},
   "source": [
    "# linear algebra\n"
   ]
  },
  {
   "cell_type": "code",
   "execution_count": 66,
   "id": "d845273c",
   "metadata": {},
   "outputs": [],
   "source": [
    "q=np.ones((2,3))"
   ]
  },
  {
   "cell_type": "code",
   "execution_count": 67,
   "id": "f5caebd1",
   "metadata": {},
   "outputs": [],
   "source": [
    "j=np.full((3,2),2)"
   ]
  },
  {
   "cell_type": "code",
   "execution_count": 68,
   "id": "9cda81e1",
   "metadata": {},
   "outputs": [
    {
     "data": {
      "text/plain": [
       "array([[6., 6.],\n",
       "       [6., 6.]])"
      ]
     },
     "execution_count": 68,
     "metadata": {},
     "output_type": "execute_result"
    }
   ],
   "source": [
    "np.matmul(q,j)"
   ]
  },
  {
   "cell_type": "code",
   "execution_count": 69,
   "id": "ca9a961e",
   "metadata": {},
   "outputs": [
    {
     "data": {
      "text/plain": [
       "1.0"
      ]
     },
     "execution_count": 69,
     "metadata": {},
     "output_type": "execute_result"
    }
   ],
   "source": [
    "x=np.identity(3)\n",
    "np.linalg.det(x)\n"
   ]
  },
  {
   "cell_type": "markdown",
   "id": "ecac0e10",
   "metadata": {},
   "source": [
    "# statistics\n"
   ]
  },
  {
   "cell_type": "code",
   "execution_count": 70,
   "id": "4b9c4a53",
   "metadata": {},
   "outputs": [
    {
     "data": {
      "text/plain": [
       "array([[1, 2, 3],\n",
       "       [4, 5, 6]])"
      ]
     },
     "execution_count": 70,
     "metadata": {},
     "output_type": "execute_result"
    }
   ],
   "source": [
    "stat=np.array([[1,2,3],[4,5,6]])\n",
    "stat"
   ]
  },
  {
   "cell_type": "code",
   "execution_count": 72,
   "id": "ee1bb107",
   "metadata": {},
   "outputs": [
    {
     "data": {
      "text/plain": [
       "array([1, 2, 3])"
      ]
     },
     "execution_count": 72,
     "metadata": {},
     "output_type": "execute_result"
    }
   ],
   "source": [
    "np.min(stat,axis=0)"
   ]
  },
  {
   "cell_type": "code",
   "execution_count": 73,
   "id": "d19845a9",
   "metadata": {},
   "outputs": [
    {
     "data": {
      "text/plain": [
       "array([1, 4])"
      ]
     },
     "execution_count": 73,
     "metadata": {},
     "output_type": "execute_result"
    }
   ],
   "source": [
    "np.min(stat,axis=1)"
   ]
  },
  {
   "cell_type": "code",
   "execution_count": 76,
   "id": "a9f1df48",
   "metadata": {},
   "outputs": [
    {
     "data": {
      "text/plain": [
       "array([ 6, 15])"
      ]
     },
     "execution_count": 76,
     "metadata": {},
     "output_type": "execute_result"
    }
   ],
   "source": [
    " np.sum(stat,axis=1)"
   ]
  },
  {
   "cell_type": "markdown",
   "id": "a05d166d",
   "metadata": {},
   "source": [
    "# reorgnising"
   ]
  },
  {
   "cell_type": "code",
   "execution_count": 78,
   "id": "da32124b",
   "metadata": {},
   "outputs": [
    {
     "name": "stdout",
     "output_type": "stream",
     "text": [
      "[[1 2 3]\n",
      " [4 5 6]]\n"
     ]
    }
   ],
   "source": [
    "before=np.array([[1,2,3],[4,5,6]])\n",
    "print(before)"
   ]
  },
  {
   "cell_type": "code",
   "execution_count": 79,
   "id": "87699c38",
   "metadata": {},
   "outputs": [
    {
     "data": {
      "text/plain": [
       "(2, 3)"
      ]
     },
     "execution_count": 79,
     "metadata": {},
     "output_type": "execute_result"
    }
   ],
   "source": [
    "before.shape"
   ]
  },
  {
   "cell_type": "code",
   "execution_count": 85,
   "id": "90fa15ae",
   "metadata": {},
   "outputs": [
    {
     "name": "stdout",
     "output_type": "stream",
     "text": [
      "[[1 2]\n",
      " [3 4]\n",
      " [5 6]]\n"
     ]
    }
   ],
   "source": [
    "after=before.reshape((3,2))\n",
    "print(after)"
   ]
  },
  {
   "cell_type": "code",
   "execution_count": 86,
   "id": "22fc8262",
   "metadata": {},
   "outputs": [
    {
     "data": {
      "text/plain": [
       "array([[1, 2, 3],\n",
       "       [4, 5, 6]])"
      ]
     },
     "execution_count": 86,
     "metadata": {},
     "output_type": "execute_result"
    }
   ],
   "source": [
    "# verticaly stacking vector\n",
    "v1=np.array([1,2,3])\n",
    "v2=np.array([4,5,6])\n",
    "np.vstack([v1,v2])\n"
   ]
  },
  {
   "cell_type": "code",
   "execution_count": 87,
   "id": "12b2db5c",
   "metadata": {},
   "outputs": [
    {
     "data": {
      "text/plain": [
       "array([1, 2, 3, 4, 5, 6])"
      ]
     },
     "execution_count": 87,
     "metadata": {},
     "output_type": "execute_result"
    }
   ],
   "source": [
    "# horizontal stacking vector\n",
    "np.hstack([v1,v2])"
   ]
  },
  {
   "cell_type": "markdown",
   "id": "f63a1680",
   "metadata": {},
   "source": [
    "# Miscellanous\n"
   ]
  },
  {
   "cell_type": "markdown",
   "id": "fbfe3981",
   "metadata": {},
   "source": [
    "## load data from file"
   ]
  },
  {
   "cell_type": "code",
   "execution_count": 93,
   "id": "ea1b1255",
   "metadata": {},
   "outputs": [
    {
     "data": {
      "text/plain": [
       "array([nan, nan, nan, nan])"
      ]
     },
     "execution_count": 93,
     "metadata": {},
     "output_type": "execute_result"
    }
   ],
   "source": [
    "np.genfromtxt('G:\\ML\\output_numpy.txt.txt',delimiter='\\n')"
   ]
  },
  {
   "cell_type": "code",
   "execution_count": 88,
   "id": "9c19fca7",
   "metadata": {},
   "outputs": [
    {
     "data": {
      "text/plain": [
       "array([[1, 2, 2, 3],\n",
       "       [2, 0, 2, 1],\n",
       "       [4, 0, 3, 1],\n",
       "       [5, 2, 6, 2]])"
      ]
     },
     "execution_count": 88,
     "metadata": {},
     "output_type": "execute_result"
    }
   ],
   "source": [
    "np.random.randint(7,size=(4,4))"
   ]
  },
  {
   "cell_type": "code",
   "execution_count": null,
   "id": "fed5b762",
   "metadata": {},
   "outputs": [],
   "source": []
  }
 ],
 "metadata": {
  "kernelspec": {
   "display_name": "Python 3 (ipykernel)",
   "language": "python",
   "name": "python3"
  },
  "language_info": {
   "codemirror_mode": {
    "name": "ipython",
    "version": 3
   },
   "file_extension": ".py",
   "mimetype": "text/x-python",
   "name": "python",
   "nbconvert_exporter": "python",
   "pygments_lexer": "ipython3",
   "version": "3.9.2"
  }
 },
 "nbformat": 4,
 "nbformat_minor": 5
}

{
 "cells": [
  {
   "cell_type": "markdown",
   "id": "5e42a4d4",
   "metadata": {},
   "source": [
    "# Boolean variable"
   ]
  },
  {
   "cell_type": "code",
   "execution_count": 1,
   "id": "ceffdb97",
   "metadata": {},
   "outputs": [
    {
     "data": {
      "text/plain": [
       "False"
      ]
     },
     "execution_count": 1,
     "metadata": {},
     "output_type": "execute_result"
    }
   ],
   "source": [
    "False"
   ]
  },
  {
   "cell_type": "code",
   "execution_count": 2,
   "id": "f0da4ce2",
   "metadata": {},
   "outputs": [
    {
     "data": {
      "text/plain": [
       "True"
      ]
     },
     "execution_count": 2,
     "metadata": {},
     "output_type": "execute_result"
    }
   ],
   "source": [
    "True"
   ]
  },
  {
   "cell_type": "code",
   "execution_count": 3,
   "id": "33bcad10",
   "metadata": {},
   "outputs": [
    {
     "name": "stdout",
     "output_type": "stream",
     "text": [
      "True False\n"
     ]
    }
   ],
   "source": [
    "print(True,False)"
   ]
  },
  {
   "cell_type": "code",
   "execution_count": 4,
   "id": "dacc964e",
   "metadata": {},
   "outputs": [
    {
     "data": {
      "text/plain": [
       "bool"
      ]
     },
     "execution_count": 4,
     "metadata": {},
     "output_type": "execute_result"
    }
   ],
   "source": [
    "type(True)"
   ]
  },
  {
   "cell_type": "code",
   "execution_count": 5,
   "id": "c6e229e6",
   "metadata": {},
   "outputs": [
    {
     "data": {
      "text/plain": [
       "bool"
      ]
     },
     "execution_count": 5,
     "metadata": {},
     "output_type": "execute_result"
    }
   ],
   "source": [
    "type(False)"
   ]
  },
  {
   "cell_type": "code",
   "execution_count": 6,
   "id": "70cb1476",
   "metadata": {},
   "outputs": [],
   "source": [
    "my_str=\"Soundarya.b.hadimani\""
   ]
  },
  {
   "cell_type": "code",
   "execution_count": 7,
   "id": "29075ef3",
   "metadata": {},
   "outputs": [
    {
     "data": {
      "text/plain": [
       "'SOUNDARYA.B.HADIMANI'"
      ]
     },
     "execution_count": 7,
     "metadata": {},
     "output_type": "execute_result"
    }
   ],
   "source": [
    "my_str.upper()"
   ]
  },
  {
   "cell_type": "code",
   "execution_count": 8,
   "id": "4a1f49ee",
   "metadata": {},
   "outputs": [
    {
     "data": {
      "text/plain": [
       "'soundarya.b.hadimani'"
      ]
     },
     "execution_count": 8,
     "metadata": {},
     "output_type": "execute_result"
    }
   ],
   "source": [
    "my_str.lower()"
   ]
  },
  {
   "cell_type": "code",
   "execution_count": 9,
   "id": "cb85fd56",
   "metadata": {},
   "outputs": [
    {
     "data": {
      "text/plain": [
       "False"
      ]
     },
     "execution_count": 9,
     "metadata": {},
     "output_type": "execute_result"
    }
   ],
   "source": [
    "my_str.isalnum()"
   ]
  },
  {
   "cell_type": "code",
   "execution_count": 10,
   "id": "cab827bc",
   "metadata": {},
   "outputs": [
    {
     "data": {
      "text/plain": [
       "False"
      ]
     },
     "execution_count": 10,
     "metadata": {},
     "output_type": "execute_result"
    }
   ],
   "source": [
    "my_str.istitle()"
   ]
  },
  {
   "cell_type": "code",
   "execution_count": 11,
   "id": "ca01021c",
   "metadata": {},
   "outputs": [
    {
     "name": "stdout",
     "output_type": "stream",
     "text": [
      "True\n"
     ]
    }
   ],
   "source": [
    "txt = \"Hello, And Welcome To My World!\"\n",
    "\n",
    "x = txt.istitle()\n",
    "\n",
    "print(x)"
   ]
  },
  {
   "cell_type": "code",
   "execution_count": 12,
   "id": "8a185840",
   "metadata": {},
   "outputs": [
    {
     "name": "stdout",
     "output_type": "stream",
     "text": [
      "False\n",
      "True\n",
      "True\n",
      "True\n"
     ]
    }
   ],
   "source": [
    "a = \"HELLO, AND WELCOME TO MY WORLD\"\n",
    "b = \"Hello\"\n",
    "c = \"22 Names\"\n",
    "d = \"This Is %'!?\"\n",
    "\n",
    "print(a.istitle())\n",
    "print(b.istitle())\n",
    "print(c.istitle())\n",
    "print(d.istitle())"
   ]
  },
  {
   "cell_type": "code",
   "execution_count": 13,
   "id": "c6ee381d",
   "metadata": {},
   "outputs": [
    {
     "name": "stdout",
     "output_type": "stream",
     "text": [
      "False\n",
      "False\n",
      "False\n",
      "False\n",
      "False\n",
      "False\n",
      "True\n",
      "True\n"
     ]
    }
   ],
   "source": [
    "print(my_str.islower())\n",
    "print(my_str.isupper())\n",
    "print(my_str.isalpha())\n",
    "print(my_str.isdigit())\n",
    "print(my_str.isspace())\n",
    "print(my_str.istitle())\n",
    "print(my_str.endswith('i'))\n",
    "print(my_str.startswith('S'))"
   ]
  },
  {
   "cell_type": "markdown",
   "id": "bab86f8e",
   "metadata": {},
   "source": [
    "# Boolean & logical operator"
   ]
  },
  {
   "cell_type": "code",
   "execution_count": 14,
   "id": "398fd347",
   "metadata": {},
   "outputs": [
    {
     "data": {
      "text/plain": [
       "True"
      ]
     },
     "execution_count": 14,
     "metadata": {},
     "output_type": "execute_result"
    }
   ],
   "source": [
    "True and True"
   ]
  },
  {
   "cell_type": "code",
   "execution_count": 15,
   "id": "6a43d862",
   "metadata": {},
   "outputs": [
    {
     "data": {
      "text/plain": [
       "False"
      ]
     },
     "execution_count": 15,
     "metadata": {},
     "output_type": "execute_result"
    }
   ],
   "source": [
    "True and False"
   ]
  },
  {
   "cell_type": "code",
   "execution_count": 16,
   "id": "582dd93b",
   "metadata": {},
   "outputs": [
    {
     "data": {
      "text/plain": [
       "False"
      ]
     },
     "execution_count": 16,
     "metadata": {},
     "output_type": "execute_result"
    }
   ],
   "source": [
    "False and False"
   ]
  },
  {
   "cell_type": "code",
   "execution_count": 17,
   "id": "bf8ad41d",
   "metadata": {},
   "outputs": [
    {
     "data": {
      "text/plain": [
       "False"
      ]
     },
     "execution_count": 17,
     "metadata": {},
     "output_type": "execute_result"
    }
   ],
   "source": [
    "False and False"
   ]
  },
  {
   "cell_type": "code",
   "execution_count": 18,
   "id": "253a30ab",
   "metadata": {},
   "outputs": [
    {
     "name": "stdout",
     "output_type": "stream",
     "text": [
      "True\n",
      "True\n",
      "False\n",
      "False\n"
     ]
    }
   ],
   "source": [
    "print(True or True)\n",
    "print(True or False)\n",
    "print(False or False)\n",
    "print(False or False)"
   ]
  },
  {
   "cell_type": "code",
   "execution_count": 19,
   "id": "5de068a4",
   "metadata": {},
   "outputs": [
    {
     "data": {
      "text/plain": [
       "False"
      ]
     },
     "execution_count": 19,
     "metadata": {},
     "output_type": "execute_result"
    }
   ],
   "source": [
    "str_example='Hello world'\n",
    "my_str=\"ok bye,good afternoon\"\n",
    "str_example.isalpha() and my_str.isdigit()"
   ]
  },
  {
   "cell_type": "markdown",
   "id": "0d4169c3",
   "metadata": {},
   "source": [
    "# List"
   ]
  },
  {
   "cell_type": "code",
   "execution_count": 20,
   "id": "9c0fa7f9",
   "metadata": {},
   "outputs": [
    {
     "data": {
      "text/plain": [
       "list"
      ]
     },
     "execution_count": 20,
     "metadata": {},
     "output_type": "execute_result"
    }
   ],
   "source": [
    "type([])"
   ]
  },
  {
   "cell_type": "code",
   "execution_count": 21,
   "id": "2d789ce2",
   "metadata": {},
   "outputs": [],
   "source": [
    "exm=[]"
   ]
  },
  {
   "cell_type": "code",
   "execution_count": 22,
   "id": "af5a589c",
   "metadata": {},
   "outputs": [
    {
     "data": {
      "text/plain": [
       "list"
      ]
     },
     "execution_count": 22,
     "metadata": {},
     "output_type": "execute_result"
    }
   ],
   "source": [
    "type(exm)"
   ]
  },
  {
   "cell_type": "code",
   "execution_count": 23,
   "id": "ddb4a9d6",
   "metadata": {},
   "outputs": [],
   "source": [
    "lst=list()"
   ]
  },
  {
   "cell_type": "code",
   "execution_count": 24,
   "id": "3c48e8e7",
   "metadata": {},
   "outputs": [
    {
     "data": {
      "text/plain": [
       "list"
      ]
     },
     "execution_count": 24,
     "metadata": {},
     "output_type": "execute_result"
    }
   ],
   "source": [
    "type(lst)"
   ]
  },
  {
   "cell_type": "code",
   "execution_count": 25,
   "id": "6c9027de",
   "metadata": {},
   "outputs": [],
   "source": [
    "lst=[\"Science\",\"Maths\",\"History\"]"
   ]
  },
  {
   "cell_type": "code",
   "execution_count": 26,
   "id": "639ccee1",
   "metadata": {},
   "outputs": [
    {
     "data": {
      "text/plain": [
       "3"
      ]
     },
     "execution_count": 26,
     "metadata": {},
     "output_type": "execute_result"
    }
   ],
   "source": [
    "len(lst)"
   ]
  },
  {
   "cell_type": "code",
   "execution_count": 27,
   "id": "452e458c",
   "metadata": {},
   "outputs": [
    {
     "data": {
      "text/plain": [
       "list"
      ]
     },
     "execution_count": 27,
     "metadata": {},
     "output_type": "execute_result"
    }
   ],
   "source": [
    "type(lst)"
   ]
  },
  {
   "cell_type": "markdown",
   "id": "b3e718a3",
   "metadata": {},
   "source": [
    "## append "
   ]
  },
  {
   "cell_type": "code",
   "execution_count": 28,
   "id": "6331f3b8",
   "metadata": {},
   "outputs": [],
   "source": [
    "lst.append('Im appended here')"
   ]
  },
  {
   "cell_type": "code",
   "execution_count": 29,
   "id": "0f4eb6e8",
   "metadata": {},
   "outputs": [
    {
     "data": {
      "text/plain": [
       "['Science', 'Maths', 'History', 'Im appended here']"
      ]
     },
     "execution_count": 29,
     "metadata": {},
     "output_type": "execute_result"
    }
   ],
   "source": [
    "lst"
   ]
  },
  {
   "cell_type": "code",
   "execution_count": 30,
   "id": "2a024a6e",
   "metadata": {},
   "outputs": [],
   "source": [
    "lst.append([\"appended by list-1\",\"apppended by list-2\"])"
   ]
  },
  {
   "cell_type": "code",
   "execution_count": 31,
   "id": "138fcf25",
   "metadata": {},
   "outputs": [
    {
     "data": {
      "text/plain": [
       "['Science',\n",
       " 'Maths',\n",
       " 'History',\n",
       " 'Im appended here',\n",
       " ['appended by list-1', 'apppended by list-2']]"
      ]
     },
     "execution_count": 31,
     "metadata": {},
     "output_type": "execute_result"
    }
   ],
   "source": [
    "lst"
   ]
  },
  {
   "cell_type": "code",
   "execution_count": 32,
   "id": "73d57ff3",
   "metadata": {},
   "outputs": [
    {
     "data": {
      "text/plain": [
       "['Im appended here', ['appended by list-1', 'apppended by list-2']]"
      ]
     },
     "execution_count": 32,
     "metadata": {},
     "output_type": "execute_result"
    }
   ],
   "source": [
    "lst[3:5]"
   ]
  },
  {
   "cell_type": "markdown",
   "id": "f1ac1482",
   "metadata": {},
   "source": [
    "# Insert"
   ]
  },
  {
   "cell_type": "code",
   "execution_count": 33,
   "id": "380a8c5a",
   "metadata": {},
   "outputs": [],
   "source": [
    "lst.insert(3,\"im inserted by Insert()\")"
   ]
  },
  {
   "cell_type": "code",
   "execution_count": 34,
   "id": "a8e73854",
   "metadata": {},
   "outputs": [
    {
     "data": {
      "text/plain": [
       "['Science',\n",
       " 'Maths',\n",
       " 'History',\n",
       " 'im inserted by Insert()',\n",
       " 'Im appended here',\n",
       " ['appended by list-1', 'apppended by list-2']]"
      ]
     },
     "execution_count": 34,
     "metadata": {},
     "output_type": "execute_result"
    }
   ],
   "source": [
    "lst"
   ]
  },
  {
   "cell_type": "code",
   "execution_count": 35,
   "id": "33455adc",
   "metadata": {},
   "outputs": [],
   "source": [
    "lst.append([1,2,3])"
   ]
  },
  {
   "cell_type": "code",
   "execution_count": 36,
   "id": "821797f2",
   "metadata": {},
   "outputs": [
    {
     "data": {
      "text/plain": [
       "['Science',\n",
       " 'Maths',\n",
       " 'History',\n",
       " 'im inserted by Insert()',\n",
       " 'Im appended here',\n",
       " ['appended by list-1', 'apppended by list-2'],\n",
       " [1, 2, 3]]"
      ]
     },
     "execution_count": 36,
     "metadata": {},
     "output_type": "execute_result"
    }
   ],
   "source": [
    "lst"
   ]
  },
  {
   "cell_type": "code",
   "execution_count": 37,
   "id": "b7bae36f",
   "metadata": {},
   "outputs": [],
   "source": [
    "lst.extend([\"im extended by extend()\",1,2,67])"
   ]
  },
  {
   "cell_type": "code",
   "execution_count": 38,
   "id": "eff92371",
   "metadata": {},
   "outputs": [
    {
     "data": {
      "text/plain": [
       "['Science',\n",
       " 'Maths',\n",
       " 'History',\n",
       " 'im inserted by Insert()',\n",
       " 'Im appended here',\n",
       " ['appended by list-1', 'apppended by list-2'],\n",
       " [1, 2, 3],\n",
       " 'im extended by extend()',\n",
       " 1,\n",
       " 2,\n",
       " 67]"
      ]
     },
     "execution_count": 38,
     "metadata": {},
     "output_type": "execute_result"
    }
   ],
   "source": [
    "lst"
   ]
  },
  {
   "cell_type": "code",
   "execution_count": 39,
   "id": "5518bb47",
   "metadata": {},
   "outputs": [],
   "source": [
    "# if list of interger then sum() is used"
   ]
  },
  {
   "cell_type": "code",
   "execution_count": 40,
   "id": "01740b56",
   "metadata": {},
   "outputs": [],
   "source": [
    "list=[23,66,89,345]"
   ]
  },
  {
   "cell_type": "code",
   "execution_count": 41,
   "id": "3cc9fb04",
   "metadata": {},
   "outputs": [
    {
     "data": {
      "text/plain": [
       "523"
      ]
     },
     "execution_count": 41,
     "metadata": {},
     "output_type": "execute_result"
    }
   ],
   "source": [
    "sum(list)"
   ]
  },
  {
   "cell_type": "code",
   "execution_count": 42,
   "id": "975a85cb",
   "metadata": {},
   "outputs": [
    {
     "data": {
      "text/plain": [
       "[23, 66, 89, 345, 23, 66, 89, 345, 23, 66, 89, 345]"
      ]
     },
     "execution_count": 42,
     "metadata": {},
     "output_type": "execute_result"
    }
   ],
   "source": [
    "list*3"
   ]
  },
  {
   "cell_type": "code",
   "execution_count": 43,
   "id": "5c6663d7",
   "metadata": {},
   "outputs": [
    {
     "data": {
      "text/plain": [
       "67"
      ]
     },
     "execution_count": 43,
     "metadata": {},
     "output_type": "execute_result"
    }
   ],
   "source": [
    "lst.pop()"
   ]
  },
  {
   "cell_type": "code",
   "execution_count": 44,
   "id": "200dc8c6",
   "metadata": {},
   "outputs": [
    {
     "data": {
      "text/plain": [
       "['appended by list-1', 'apppended by list-2']"
      ]
     },
     "execution_count": 44,
     "metadata": {},
     "output_type": "execute_result"
    }
   ],
   "source": [
    "lst.pop(5)"
   ]
  },
  {
   "cell_type": "code",
   "execution_count": 46,
   "id": "40813d40",
   "metadata": {},
   "outputs": [
    {
     "data": {
      "text/plain": [
       "['Science',\n",
       " 'Maths',\n",
       " 'History',\n",
       " 'im inserted by Insert()',\n",
       " 'Im appended here',\n",
       " [1, 2, 3],\n",
       " 'im extended by extend()',\n",
       " 1,\n",
       " 2]"
      ]
     },
     "execution_count": 46,
     "metadata": {},
     "output_type": "execute_result"
    }
   ],
   "source": [
    "lst"
   ]
  },
  {
   "cell_type": "markdown",
   "id": "235eb257",
   "metadata": {},
   "source": [
    "###  count():Calculates total occurrence of given element of List"
   ]
  },
  {
   "cell_type": "code",
   "execution_count": 48,
   "id": "c473b083",
   "metadata": {},
   "outputs": [
    {
     "data": {
      "text/plain": [
       "2"
      ]
     },
     "execution_count": 48,
     "metadata": {},
     "output_type": "execute_result"
    }
   ],
   "source": [
    "l1=[1,223,223,8,9,0,45]\n",
    "l1.count(223)"
   ]
  },
  {
   "cell_type": "code",
   "execution_count": 51,
   "id": "fa60ee3e",
   "metadata": {},
   "outputs": [
    {
     "data": {
      "text/plain": [
       "0"
      ]
     },
     "execution_count": 51,
     "metadata": {},
     "output_type": "execute_result"
    }
   ],
   "source": [
    "min(l1)"
   ]
  },
  {
   "cell_type": "code",
   "execution_count": 52,
   "id": "29d9b30e",
   "metadata": {},
   "outputs": [
    {
     "data": {
      "text/plain": [
       "223"
      ]
     },
     "execution_count": 52,
     "metadata": {},
     "output_type": "execute_result"
    }
   ],
   "source": [
    "max(l1)"
   ]
  },
  {
   "cell_type": "code",
   "execution_count": 53,
   "id": "72070151",
   "metadata": {},
   "outputs": [
    {
     "data": {
      "text/plain": [
       "7"
      ]
     },
     "execution_count": 53,
     "metadata": {},
     "output_type": "execute_result"
    }
   ],
   "source": [
    "len(l1)"
   ]
  },
  {
   "cell_type": "code",
   "execution_count": 58,
   "id": "99cf84d3",
   "metadata": {},
   "outputs": [
    {
     "data": {
      "text/plain": [
       "1"
      ]
     },
     "execution_count": 58,
     "metadata": {},
     "output_type": "execute_result"
    }
   ],
   "source": [
    "l1.index(223)"
   ]
  },
  {
   "cell_type": "markdown",
   "id": "571178b5",
   "metadata": {},
   "source": [
    "# sets"
   ]
  },
  {
   "cell_type": "code",
   "execution_count": 59,
   "id": "c9051fee",
   "metadata": {},
   "outputs": [],
   "source": [
    "empty_set=set()"
   ]
  },
  {
   "cell_type": "code",
   "execution_count": 61,
   "id": "10d4fd1e",
   "metadata": {},
   "outputs": [
    {
     "data": {
      "text/plain": [
       "set"
      ]
     },
     "execution_count": 61,
     "metadata": {},
     "output_type": "execute_result"
    }
   ],
   "source": [
    "type(empty_set)"
   ]
  },
  {
   "cell_type": "code",
   "execution_count": 62,
   "id": "b0b7f5de",
   "metadata": {},
   "outputs": [],
   "source": [
    "set1={34,56,78,99}"
   ]
  },
  {
   "cell_type": "code",
   "execution_count": 63,
   "id": "8597e796",
   "metadata": {},
   "outputs": [
    {
     "data": {
      "text/plain": [
       "{34, 56, 78, 99}"
      ]
     },
     "execution_count": 63,
     "metadata": {},
     "output_type": "execute_result"
    }
   ],
   "source": [
    "set1"
   ]
  },
  {
   "cell_type": "code",
   "execution_count": 64,
   "id": "5f1d2dfb",
   "metadata": {},
   "outputs": [],
   "source": [
    "set1.add(90)"
   ]
  },
  {
   "cell_type": "code",
   "execution_count": 65,
   "id": "a8df6d8d",
   "metadata": {},
   "outputs": [
    {
     "data": {
      "text/plain": [
       "{34, 56, 78, 90, 99}"
      ]
     },
     "execution_count": 65,
     "metadata": {},
     "output_type": "execute_result"
    }
   ],
   "source": [
    "set1"
   ]
  },
  {
   "cell_type": "code",
   "execution_count": 66,
   "id": "3f7932ad",
   "metadata": {},
   "outputs": [],
   "source": [
    "set1={\"Avengers\",\"IronMan\",'Hitman'}\n",
    "set2={\"Avengers\",\"IronMan\",'Hitman','Hulk2'}"
   ]
  },
  {
   "cell_type": "code",
   "execution_count": 67,
   "id": "6a2bbb38",
   "metadata": {},
   "outputs": [],
   "source": [
    "set1.intersection_update(set2)"
   ]
  },
  {
   "cell_type": "code",
   "execution_count": 68,
   "id": "0497ca4e",
   "metadata": {},
   "outputs": [
    {
     "data": {
      "text/plain": [
       "{'Avengers', 'Hitman', 'IronMan'}"
      ]
     },
     "execution_count": 68,
     "metadata": {},
     "output_type": "execute_result"
    }
   ],
   "source": [
    "set1"
   ]
  },
  {
   "cell_type": "code",
   "execution_count": 69,
   "id": "a064b08d",
   "metadata": {},
   "outputs": [
    {
     "data": {
      "text/plain": [
       "{'Avengers', 'Hitman', 'Hulk2', 'IronMan'}"
      ]
     },
     "execution_count": 69,
     "metadata": {},
     "output_type": "execute_result"
    }
   ],
   "source": [
    "set2"
   ]
  },
  {
   "cell_type": "code",
   "execution_count": 70,
   "id": "da828028",
   "metadata": {},
   "outputs": [],
   "source": [
    "set2.intersection_update(set1)"
   ]
  },
  {
   "cell_type": "code",
   "execution_count": 71,
   "id": "947cbf43",
   "metadata": {},
   "outputs": [
    {
     "data": {
      "text/plain": [
       "{'Avengers', 'Hitman', 'IronMan'}"
      ]
     },
     "execution_count": 71,
     "metadata": {},
     "output_type": "execute_result"
    }
   ],
   "source": [
    "set1"
   ]
  },
  {
   "cell_type": "code",
   "execution_count": 72,
   "id": "f0a078d4",
   "metadata": {},
   "outputs": [
    {
     "data": {
      "text/plain": [
       "{'Avengers', 'Hitman', 'IronMan'}"
      ]
     },
     "execution_count": 72,
     "metadata": {},
     "output_type": "execute_result"
    }
   ],
   "source": [
    "set2"
   ]
  },
  {
   "cell_type": "code",
   "execution_count": 73,
   "id": "7c0a61a1",
   "metadata": {},
   "outputs": [
    {
     "data": {
      "text/plain": [
       "set()"
      ]
     },
     "execution_count": 73,
     "metadata": {},
     "output_type": "execute_result"
    }
   ],
   "source": [
    "set2.difference(set1)"
   ]
  },
  {
   "cell_type": "code",
   "execution_count": 74,
   "id": "6e9ec152",
   "metadata": {},
   "outputs": [
    {
     "data": {
      "text/plain": [
       "set()"
      ]
     },
     "execution_count": 74,
     "metadata": {},
     "output_type": "execute_result"
    }
   ],
   "source": [
    "set1.difference(set2)"
   ]
  },
  {
   "cell_type": "code",
   "execution_count": 76,
   "id": "f54a0025",
   "metadata": {},
   "outputs": [
    {
     "data": {
      "text/plain": [
       "set()"
      ]
     },
     "execution_count": 76,
     "metadata": {},
     "output_type": "execute_result"
    }
   ],
   "source": [
    "set2.difference(set1)"
   ]
  },
  {
   "cell_type": "code",
   "execution_count": 77,
   "id": "b8523a9f",
   "metadata": {},
   "outputs": [],
   "source": [
    "\n",
    "set2.difference_update(set1)"
   ]
  },
  {
   "cell_type": "code",
   "execution_count": 78,
   "id": "a197652b",
   "metadata": {},
   "outputs": [
    {
     "data": {
      "text/plain": [
       "set()"
      ]
     },
     "execution_count": 78,
     "metadata": {},
     "output_type": "execute_result"
    }
   ],
   "source": [
    "set2"
   ]
  },
  {
   "cell_type": "markdown",
   "id": "908cd688",
   "metadata": {},
   "source": [
    "# Dictionary"
   ]
  },
  {
   "cell_type": "code",
   "execution_count": 79,
   "id": "03b6632a",
   "metadata": {},
   "outputs": [],
   "source": [
    "dicu=dict()"
   ]
  },
  {
   "cell_type": "code",
   "execution_count": 80,
   "id": "95c4cb05",
   "metadata": {},
   "outputs": [
    {
     "data": {
      "text/plain": [
       "dict"
      ]
     },
     "execution_count": 80,
     "metadata": {},
     "output_type": "execute_result"
    }
   ],
   "source": [
    "type(dicu)"
   ]
  },
  {
   "cell_type": "code",
   "execution_count": 81,
   "id": "c7ad8c45",
   "metadata": {},
   "outputs": [],
   "source": [
    "empty_dicu={}"
   ]
  },
  {
   "cell_type": "code",
   "execution_count": 82,
   "id": "b2e6569b",
   "metadata": {},
   "outputs": [
    {
     "data": {
      "text/plain": [
       "{}"
      ]
     },
     "execution_count": 82,
     "metadata": {},
     "output_type": "execute_result"
    }
   ],
   "source": [
    "empty_dicu"
   ]
  },
  {
   "cell_type": "code",
   "execution_count": 83,
   "id": "344fd057",
   "metadata": {},
   "outputs": [],
   "source": [
    "dict1={\n",
    "    \"name\":\"sound\",\"age\":200,\"hobby\":\"data_analysis\"\n",
    "}"
   ]
  },
  {
   "cell_type": "code",
   "execution_count": 84,
   "id": "5416f102",
   "metadata": {},
   "outputs": [
    {
     "data": {
      "text/plain": [
       "'sound'"
      ]
     },
     "execution_count": 84,
     "metadata": {},
     "output_type": "execute_result"
    }
   ],
   "source": [
    "dict1['name']"
   ]
  },
  {
   "cell_type": "code",
   "execution_count": 85,
   "id": "6c45882d",
   "metadata": {},
   "outputs": [],
   "source": [
    "dict1['name']='blue'"
   ]
  },
  {
   "cell_type": "code",
   "execution_count": 86,
   "id": "089426a1",
   "metadata": {},
   "outputs": [
    {
     "data": {
      "text/plain": [
       "{'name': 'blue', 'age': 200, 'hobby': 'data_analysis'}"
      ]
     },
     "execution_count": 86,
     "metadata": {},
     "output_type": "execute_result"
    }
   ],
   "source": [
    "dict1"
   ]
  },
  {
   "cell_type": "code",
   "execution_count": 87,
   "id": "9dc7d1a0",
   "metadata": {},
   "outputs": [],
   "source": [
    "dict1['food']=\"paddu\""
   ]
  },
  {
   "cell_type": "code",
   "execution_count": 88,
   "id": "2bfcbcbf",
   "metadata": {},
   "outputs": [
    {
     "data": {
      "text/plain": [
       "{'name': 'blue', 'age': 200, 'hobby': 'data_analysis', 'food': 'paddu'}"
      ]
     },
     "execution_count": 88,
     "metadata": {},
     "output_type": "execute_result"
    }
   ],
   "source": [
    "dict1"
   ]
  },
  {
   "cell_type": "code",
   "execution_count": 90,
   "id": "4d2e37b1",
   "metadata": {},
   "outputs": [
    {
     "name": "stdout",
     "output_type": "stream",
     "text": [
      "blue\n",
      "200\n",
      "data_analysis\n",
      "paddu\n"
     ]
    }
   ],
   "source": [
    "for i in dict1.values():\n",
    "    print(i)"
   ]
  },
  {
   "cell_type": "code",
   "execution_count": 91,
   "id": "7904ad1c",
   "metadata": {},
   "outputs": [
    {
     "name": "stdout",
     "output_type": "stream",
     "text": [
      "('name', 'blue')\n",
      "('age', 200)\n",
      "('hobby', 'data_analysis')\n",
      "('food', 'paddu')\n"
     ]
    }
   ],
   "source": [
    "for i in dict1.items():\n",
    "    print(i)"
   ]
  },
  {
   "cell_type": "markdown",
   "id": "411936c0",
   "metadata": {},
   "source": [
    "# Nested dictionary"
   ]
  },
  {
   "cell_type": "code",
   "execution_count": 92,
   "id": "fbb79ed5",
   "metadata": {},
   "outputs": [],
   "source": [
    "food1={\"nasta\":\"paddu\"}\n",
    "food2={\"savour\":\"chapathi\",\"sweet\":\"mango\"}\n",
    "food3={\"dinner\":\"not yet dicided\"}\n",
    "day={'tindi':food1,\n",
    "    'uta':food2,\n",
    "    'evening':food3}"
   ]
  },
  {
   "cell_type": "code",
   "execution_count": 93,
   "id": "f7a75903",
   "metadata": {},
   "outputs": [
    {
     "data": {
      "text/plain": [
       "{'tindi': {'nasta': 'paddu'},\n",
       " 'uta': {'savour': 'chapathi', 'sweet': 'mango'},\n",
       " 'evening': {'dinner': 'not yet dicided'}}"
      ]
     },
     "execution_count": 93,
     "metadata": {},
     "output_type": "execute_result"
    }
   ],
   "source": [
    "day"
   ]
  },
  {
   "cell_type": "code",
   "execution_count": 94,
   "id": "717523ef",
   "metadata": {},
   "outputs": [
    {
     "data": {
      "text/plain": [
       "{'nasta': 'paddu'}"
      ]
     },
     "execution_count": 94,
     "metadata": {},
     "output_type": "execute_result"
    }
   ],
   "source": [
    "day['tindi']"
   ]
  },
  {
   "cell_type": "code",
   "execution_count": 97,
   "id": "7a71b8e0",
   "metadata": {},
   "outputs": [
    {
     "data": {
      "text/plain": [
       "'mango'"
      ]
     },
     "execution_count": 97,
     "metadata": {},
     "output_type": "execute_result"
    }
   ],
   "source": [
    "day['uta']['sweet']"
   ]
  },
  {
   "cell_type": "markdown",
   "id": "86eec9c5",
   "metadata": {},
   "source": [
    "# Tuple"
   ]
  },
  {
   "cell_type": "code",
   "execution_count": 98,
   "id": "22e43ce4",
   "metadata": {},
   "outputs": [],
   "source": [
    "empty_tuple=tuple()"
   ]
  },
  {
   "cell_type": "code",
   "execution_count": 99,
   "id": "53751e70",
   "metadata": {},
   "outputs": [
    {
     "data": {
      "text/plain": [
       "tuple"
      ]
     },
     "execution_count": 99,
     "metadata": {},
     "output_type": "execute_result"
    }
   ],
   "source": [
    "type(empty_tuple)"
   ]
  },
  {
   "cell_type": "code",
   "execution_count": 100,
   "id": "5e66c595",
   "metadata": {},
   "outputs": [],
   "source": [
    "my_em_tu=()"
   ]
  },
  {
   "cell_type": "code",
   "execution_count": 101,
   "id": "729f0c3d",
   "metadata": {},
   "outputs": [],
   "source": [
    "tup1=(\"append\",\"insert\",\"extend\",\"pop\")"
   ]
  },
  {
   "cell_type": "code",
   "execution_count": 102,
   "id": "4478a903",
   "metadata": {},
   "outputs": [
    {
     "data": {
      "text/plain": [
       "1"
      ]
     },
     "execution_count": 102,
     "metadata": {},
     "output_type": "execute_result"
    }
   ],
   "source": [
    "tup1.count(\"pop\")"
   ]
  },
  {
   "cell_type": "code",
   "execution_count": 104,
   "id": "efdaa061",
   "metadata": {},
   "outputs": [
    {
     "data": {
      "text/plain": [
       "3"
      ]
     },
     "execution_count": 104,
     "metadata": {},
     "output_type": "execute_result"
    }
   ],
   "source": [
    "tup1.index(\"pop\")"
   ]
  },
  {
   "cell_type": "code",
   "execution_count": null,
   "id": "3701efc3",
   "metadata": {},
   "outputs": [],
   "source": []
  }
 ],
 "metadata": {
  "kernelspec": {
   "display_name": "Python 3 (ipykernel)",
   "language": "python",
   "name": "python3"
  },
  "language_info": {
   "codemirror_mode": {
    "name": "ipython",
    "version": 3
   },
   "file_extension": ".py",
   "mimetype": "text/x-python",
   "name": "python",
   "nbconvert_exporter": "python",
   "pygments_lexer": "ipython3",
   "version": "3.9.2"
  }
 },
 "nbformat": 4,
 "nbformat_minor": 5
}
